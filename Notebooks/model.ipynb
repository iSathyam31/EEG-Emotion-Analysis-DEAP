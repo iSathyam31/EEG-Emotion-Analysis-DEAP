{
 "cells": [
  {
   "cell_type": "code",
   "execution_count": 1,
   "metadata": {},
   "outputs": [],
   "source": [
    "import pandas as pd\n",
    "import numpy as np\n",
    "import matplotlib.pyplot as plt\n",
    "import seaborn as sns\n",
    "sns.set_theme()\n",
    "from sklearn.model_selection import GroupShuffleSplit, GridSearchCV, cross_val_score\n",
    "from sklearn.pipeline import Pipeline\n",
    "from sklearn.preprocessing import StandardScaler, LabelEncoder\n",
    "from sklearn.decomposition import PCA\n",
    "from sklearn.ensemble import RandomForestClassifier, GradientBoostingClassifier\n",
    "from sklearn.tree import DecisionTreeClassifier\n",
    "from sklearn.svm import SVC\n",
    "from xgboost import XGBClassifier\n",
    "from sklearn.metrics import classification_report, accuracy_score, precision_recall_fscore_support\n",
    "\n",
    "import torch\n",
    "import torch.nn as nn\n",
    "import torch.optim as optim\n",
    "import optuna\n",
    "from torch.utils.data import DataLoader, TensorDataset\n",
    "import warnings\n",
    "warnings.filterwarnings('ignore')"
   ]
  },
  {
   "cell_type": "markdown",
   "metadata": {},
   "source": [
    "### Machine Learning Models"
   ]
  },
  {
   "cell_type": "code",
   "execution_count": 2,
   "metadata": {},
   "outputs": [],
   "source": [
    "# Load the dataset\n",
    "df = pd.read_csv(\"extracted_features_with_emotion.csv\")"
   ]
  },
  {
   "cell_type": "code",
   "execution_count": 3,
   "metadata": {},
   "outputs": [
    {
     "data": {
      "text/html": [
       "<div>\n",
       "<style scoped>\n",
       "    .dataframe tbody tr th:only-of-type {\n",
       "        vertical-align: middle;\n",
       "    }\n",
       "\n",
       "    .dataframe tbody tr th {\n",
       "        vertical-align: top;\n",
       "    }\n",
       "\n",
       "    .dataframe thead th {\n",
       "        text-align: right;\n",
       "    }\n",
       "</style>\n",
       "<table border=\"1\" class=\"dataframe\">\n",
       "  <thead>\n",
       "    <tr style=\"text-align: right;\">\n",
       "      <th></th>\n",
       "      <th>Participant_ID</th>\n",
       "      <th>Trial</th>\n",
       "      <th>FRONTAL_MEAN</th>\n",
       "      <th>FRONTAL_STD</th>\n",
       "      <th>FRONTAL_MAX_VALUE</th>\n",
       "      <th>FRONTAL_MIN_VALUE</th>\n",
       "      <th>FRONTAL_SKEWNESS</th>\n",
       "      <th>FRONTAL_KURTOSIS</th>\n",
       "      <th>FRONTAL_MEDIAN</th>\n",
       "      <th>FRONTAL_1st_DIFF_MEAN</th>\n",
       "      <th>...</th>\n",
       "      <th>OCCIPITAL_SKEWNESS_WAV_VALUE</th>\n",
       "      <th>OCCIPITAL_KURTOSIS_WAV_VALUE</th>\n",
       "      <th>OCCIPITAL_WAV_BAND</th>\n",
       "      <th>OCCIPITAL_ENTROPY_SPECTRAL</th>\n",
       "      <th>OCCIPITAL_ENTROPY_SHANNON</th>\n",
       "      <th>Valence</th>\n",
       "      <th>Arousal</th>\n",
       "      <th>Dominance</th>\n",
       "      <th>Liking</th>\n",
       "      <th>Emotion</th>\n",
       "    </tr>\n",
       "  </thead>\n",
       "  <tbody>\n",
       "    <tr>\n",
       "      <th>0</th>\n",
       "      <td>s01</td>\n",
       "      <td>1</td>\n",
       "      <td>0.001359</td>\n",
       "      <td>4.004201</td>\n",
       "      <td>21.498158</td>\n",
       "      <td>-21.610319</td>\n",
       "      <td>-0.033265</td>\n",
       "      <td>1.157544</td>\n",
       "      <td>0.012683</td>\n",
       "      <td>0.000402</td>\n",
       "      <td>...</td>\n",
       "      <td>-0.240830</td>\n",
       "      <td>56.933169</td>\n",
       "      <td>3.757394</td>\n",
       "      <td>5.130237</td>\n",
       "      <td>2.161550</td>\n",
       "      <td>7.71</td>\n",
       "      <td>7.60</td>\n",
       "      <td>6.90</td>\n",
       "      <td>7.83</td>\n",
       "      <td>Happy/Excited</td>\n",
       "    </tr>\n",
       "    <tr>\n",
       "      <th>1</th>\n",
       "      <td>s01</td>\n",
       "      <td>2</td>\n",
       "      <td>0.012906</td>\n",
       "      <td>4.412052</td>\n",
       "      <td>21.076936</td>\n",
       "      <td>-22.273542</td>\n",
       "      <td>-0.027034</td>\n",
       "      <td>1.001990</td>\n",
       "      <td>0.019033</td>\n",
       "      <td>0.000275</td>\n",
       "      <td>...</td>\n",
       "      <td>-1.722563</td>\n",
       "      <td>41.971463</td>\n",
       "      <td>54.867696</td>\n",
       "      <td>5.013001</td>\n",
       "      <td>2.078751</td>\n",
       "      <td>8.10</td>\n",
       "      <td>7.31</td>\n",
       "      <td>7.28</td>\n",
       "      <td>8.47</td>\n",
       "      <td>Happy/Excited</td>\n",
       "    </tr>\n",
       "    <tr>\n",
       "      <th>2</th>\n",
       "      <td>s01</td>\n",
       "      <td>3</td>\n",
       "      <td>-0.004137</td>\n",
       "      <td>4.599285</td>\n",
       "      <td>36.928509</td>\n",
       "      <td>-33.003281</td>\n",
       "      <td>0.117162</td>\n",
       "      <td>5.242570</td>\n",
       "      <td>-0.005572</td>\n",
       "      <td>-0.000470</td>\n",
       "      <td>...</td>\n",
       "      <td>1.860689</td>\n",
       "      <td>93.708419</td>\n",
       "      <td>12.115209</td>\n",
       "      <td>5.038820</td>\n",
       "      <td>2.169897</td>\n",
       "      <td>8.58</td>\n",
       "      <td>7.54</td>\n",
       "      <td>9.00</td>\n",
       "      <td>7.08</td>\n",
       "      <td>Happy/Excited</td>\n",
       "    </tr>\n",
       "    <tr>\n",
       "      <th>3</th>\n",
       "      <td>s01</td>\n",
       "      <td>4</td>\n",
       "      <td>-0.027456</td>\n",
       "      <td>4.110787</td>\n",
       "      <td>21.748716</td>\n",
       "      <td>-24.528128</td>\n",
       "      <td>-0.022729</td>\n",
       "      <td>1.385224</td>\n",
       "      <td>-0.024023</td>\n",
       "      <td>0.000027</td>\n",
       "      <td>...</td>\n",
       "      <td>1.164910</td>\n",
       "      <td>57.342518</td>\n",
       "      <td>5.055052</td>\n",
       "      <td>4.989857</td>\n",
       "      <td>2.158516</td>\n",
       "      <td>4.94</td>\n",
       "      <td>6.01</td>\n",
       "      <td>6.12</td>\n",
       "      <td>8.06</td>\n",
       "      <td>Angry/Stressed</td>\n",
       "    </tr>\n",
       "    <tr>\n",
       "      <th>4</th>\n",
       "      <td>s01</td>\n",
       "      <td>5</td>\n",
       "      <td>-0.005914</td>\n",
       "      <td>3.581101</td>\n",
       "      <td>16.019129</td>\n",
       "      <td>-18.856439</td>\n",
       "      <td>-0.046923</td>\n",
       "      <td>0.542475</td>\n",
       "      <td>0.011176</td>\n",
       "      <td>-0.000091</td>\n",
       "      <td>...</td>\n",
       "      <td>-4.346694</td>\n",
       "      <td>75.514396</td>\n",
       "      <td>3.238226</td>\n",
       "      <td>5.154421</td>\n",
       "      <td>2.214743</td>\n",
       "      <td>6.96</td>\n",
       "      <td>3.92</td>\n",
       "      <td>7.19</td>\n",
       "      <td>6.05</td>\n",
       "      <td>Relaxed/Content</td>\n",
       "    </tr>\n",
       "  </tbody>\n",
       "</table>\n",
       "<p>5 rows × 157 columns</p>\n",
       "</div>"
      ],
      "text/plain": [
       "  Participant_ID  Trial  FRONTAL_MEAN  FRONTAL_STD  FRONTAL_MAX_VALUE  \\\n",
       "0            s01      1      0.001359     4.004201          21.498158   \n",
       "1            s01      2      0.012906     4.412052          21.076936   \n",
       "2            s01      3     -0.004137     4.599285          36.928509   \n",
       "3            s01      4     -0.027456     4.110787          21.748716   \n",
       "4            s01      5     -0.005914     3.581101          16.019129   \n",
       "\n",
       "   FRONTAL_MIN_VALUE  FRONTAL_SKEWNESS  FRONTAL_KURTOSIS  FRONTAL_MEDIAN  \\\n",
       "0         -21.610319         -0.033265          1.157544        0.012683   \n",
       "1         -22.273542         -0.027034          1.001990        0.019033   \n",
       "2         -33.003281          0.117162          5.242570       -0.005572   \n",
       "3         -24.528128         -0.022729          1.385224       -0.024023   \n",
       "4         -18.856439         -0.046923          0.542475        0.011176   \n",
       "\n",
       "   FRONTAL_1st_DIFF_MEAN  ...  OCCIPITAL_SKEWNESS_WAV_VALUE  \\\n",
       "0               0.000402  ...                     -0.240830   \n",
       "1               0.000275  ...                     -1.722563   \n",
       "2              -0.000470  ...                      1.860689   \n",
       "3               0.000027  ...                      1.164910   \n",
       "4              -0.000091  ...                     -4.346694   \n",
       "\n",
       "   OCCIPITAL_KURTOSIS_WAV_VALUE  OCCIPITAL_WAV_BAND  \\\n",
       "0                     56.933169            3.757394   \n",
       "1                     41.971463           54.867696   \n",
       "2                     93.708419           12.115209   \n",
       "3                     57.342518            5.055052   \n",
       "4                     75.514396            3.238226   \n",
       "\n",
       "   OCCIPITAL_ENTROPY_SPECTRAL  OCCIPITAL_ENTROPY_SHANNON  Valence  Arousal  \\\n",
       "0                    5.130237                   2.161550     7.71     7.60   \n",
       "1                    5.013001                   2.078751     8.10     7.31   \n",
       "2                    5.038820                   2.169897     8.58     7.54   \n",
       "3                    4.989857                   2.158516     4.94     6.01   \n",
       "4                    5.154421                   2.214743     6.96     3.92   \n",
       "\n",
       "   Dominance  Liking          Emotion  \n",
       "0       6.90    7.83    Happy/Excited  \n",
       "1       7.28    8.47    Happy/Excited  \n",
       "2       9.00    7.08    Happy/Excited  \n",
       "3       6.12    8.06   Angry/Stressed  \n",
       "4       7.19    6.05  Relaxed/Content  \n",
       "\n",
       "[5 rows x 157 columns]"
      ]
     },
     "execution_count": 3,
     "metadata": {},
     "output_type": "execute_result"
    }
   ],
   "source": [
    "df.head()"
   ]
  },
  {
   "cell_type": "code",
   "execution_count": 4,
   "metadata": {},
   "outputs": [
    {
     "data": {
      "text/plain": [
       "(1280, 157)"
      ]
     },
     "execution_count": 4,
     "metadata": {},
     "output_type": "execute_result"
    }
   ],
   "source": [
    "df.shape"
   ]
  },
  {
   "cell_type": "code",
   "execution_count": 5,
   "metadata": {},
   "outputs": [],
   "source": [
    "# Drop non-feature columns\n",
    "X = df.drop(columns=[\"Participant_ID\", \"Trial\", \"Emotion\"])\n",
    "y = df[\"Emotion\"]"
   ]
  },
  {
   "cell_type": "code",
   "execution_count": 6,
   "metadata": {},
   "outputs": [],
   "source": [
    "# Encode target variable\n",
    "label_encoder = LabelEncoder()\n",
    "y_encoded = label_encoder.fit_transform(y)"
   ]
  },
  {
   "cell_type": "code",
   "execution_count": 7,
   "metadata": {},
   "outputs": [],
   "source": [
    "# Get participant IDs for group split\n",
    "groups = df[\"Participant_ID\"]"
   ]
  },
  {
   "cell_type": "code",
   "execution_count": 8,
   "metadata": {},
   "outputs": [],
   "source": [
    "# Train-test split ensuring all trials of a participant remain in the same set\n",
    "gss = GroupShuffleSplit(test_size=0.2, random_state=42)\n",
    "train_idx, test_idx = next(gss.split(X, y_encoded, groups))\n",
    "\n",
    "X_train, X_test = X.iloc[train_idx], X.iloc[test_idx]\n",
    "y_train, y_test = y_encoded[train_idx], y_encoded[test_idx]"
   ]
  },
  {
   "cell_type": "code",
   "execution_count": 9,
   "metadata": {},
   "outputs": [],
   "source": [
    "# Define models and hyperparameters\n",
    "models = {\n",
    "    \"SVM\": SVC(),\n",
    "    \"Random Forest\": RandomForestClassifier(),\n",
    "    \"Decision Tree\": DecisionTreeClassifier(),\n",
    "    \"XGBoost\": XGBClassifier(use_label_encoder=False, eval_metric='mlogloss'),\n",
    "    \"Gradient Boosting\": GradientBoostingClassifier()\n",
    "}\n",
    "\n",
    "param_grid = {\n",
    "    \"SVM\": {\"classifier__C\": [0.1, 1, 10], \"classifier__kernel\": [\"linear\", \"rbf\"]},\n",
    "    \"Random Forest\": {\"classifier__n_estimators\": [50, 100, 200]},\n",
    "    \"Decision Tree\": {\"classifier__max_depth\": [None, 10, 20]},\n",
    "    \"XGBoost\": {\"classifier__n_estimators\": [50, 100], \"classifier__learning_rate\": [0.01, 0.1]},\n",
    "    \"Gradient Boosting\": {\"classifier__n_estimators\": [50, 100], \"classifier__learning_rate\": [0.01, 0.1]}\n",
    "}"
   ]
  },
  {
   "cell_type": "code",
   "execution_count": 10,
   "metadata": {},
   "outputs": [],
   "source": [
    "results = {}\n",
    "# Iterate over models\n",
    "for name, model in models.items():\n",
    "    pipeline = Pipeline([\n",
    "        (\"scaler\", StandardScaler()),\n",
    "        (\"pca\", PCA(n_components=0.95)),\n",
    "        (\"classifier\", model)\n",
    "    ])\n",
    "    \n",
    "    grid_search = GridSearchCV(pipeline, param_grid[name], cv=3, scoring='accuracy')\n",
    "    grid_search.fit(X_train, y_train)\n",
    "    \n",
    "    best_model = grid_search.best_estimator_\n",
    "    y_pred = best_model.predict(X_test)\n",
    "    \n",
    "    accuracy = accuracy_score(y_test, y_pred)\n",
    "    precision, recall, f1, _ = precision_recall_fscore_support(y_test, y_pred, average='weighted')\n",
    "    class_report = classification_report(y_test, y_pred, output_dict=True)\n",
    "    \n",
    "    results[name] = {\n",
    "        \"Best Params\": grid_search.best_params_,\n",
    "        \"Accuracy\": accuracy,\n",
    "        \"Precision\": precision,\n",
    "        \"Recall\": recall,\n",
    "        \"F1-Score\": f1,\n",
    "        \"Classification Report\": class_report\n",
    "    }"
   ]
  },
  {
   "cell_type": "code",
   "execution_count": 11,
   "metadata": {},
   "outputs": [],
   "source": [
    "# Convert results to DataFrame\n",
    "metrics_df = pd.DataFrame({\n",
    "    model: {\n",
    "        \"Accuracy\": results[model][\"Accuracy\"],\n",
    "        \"Precision\": results[model][\"Precision\"],\n",
    "        \"Recall\": results[model][\"Recall\"],\n",
    "        \"F1-Score\": results[model][\"F1-Score\"]\n",
    "    }\n",
    "    for model in results\n",
    "}).T"
   ]
  },
  {
   "cell_type": "code",
   "execution_count": 12,
   "metadata": {},
   "outputs": [
    {
     "name": "stdout",
     "output_type": "stream",
     "text": [
      "                   Accuracy  Precision    Recall  F1-Score\n",
      "SVM                0.800000   0.797241  0.800000  0.797193\n",
      "Random Forest      0.675000   0.674028  0.675000  0.670556\n",
      "Decision Tree      0.496429   0.497024  0.496429  0.496517\n",
      "XGBoost            0.696429   0.696549  0.696429  0.696470\n",
      "Gradient Boosting  0.728571   0.729010  0.728571  0.728701\n"
     ]
    }
   ],
   "source": [
    "# Print the final metrics DataFrame\n",
    "print(metrics_df)\n"
   ]
  },
  {
   "cell_type": "markdown",
   "metadata": {},
   "source": [
    "### Neural Network appraoch"
   ]
  },
  {
   "cell_type": "code",
   "execution_count": 13,
   "metadata": {},
   "outputs": [],
   "source": [
    "# Standardize features\n",
    "scaler = StandardScaler()\n",
    "X_train = scaler.fit_transform(X_train)\n",
    "X_test = scaler.transform(X_test)\n",
    "\n",
    "# Convert data to PyTorch tensors\n",
    "X_train_tensor = torch.tensor(X_train, dtype=torch.float32)\n",
    "y_train_tensor = torch.tensor(y_train, dtype=torch.long)\n",
    "X_test_tensor = torch.tensor(X_test, dtype=torch.float32)\n",
    "y_test_tensor = torch.tensor(y_test, dtype=torch.long)"
   ]
  },
  {
   "cell_type": "code",
   "execution_count": 14,
   "metadata": {},
   "outputs": [],
   "source": [
    "# Create DataLoader\n",
    "train_dataset = TensorDataset(X_train_tensor, y_train_tensor)\n",
    "test_dataset = TensorDataset(X_test_tensor, y_test_tensor)\n",
    "train_loader = DataLoader(train_dataset, batch_size=32, shuffle=True)\n",
    "test_loader = DataLoader(test_dataset, batch_size=32, shuffle=False)"
   ]
  },
  {
   "cell_type": "code",
   "execution_count": 15,
   "metadata": {},
   "outputs": [],
   "source": [
    "# Define Neural Network class\n",
    "class NeuralNet(nn.Module):\n",
    "    def __init__(self, input_size, hidden_size, dropout_rate):\n",
    "        super(NeuralNet, self).__init__()\n",
    "        self.fc1 = nn.Linear(input_size, hidden_size)\n",
    "        self.bn1 = nn.BatchNorm1d(hidden_size)\n",
    "        self.dropout1 = nn.Dropout(dropout_rate)\n",
    "        self.fc2 = nn.Linear(hidden_size, hidden_size // 2)\n",
    "        self.bn2 = nn.BatchNorm1d(hidden_size // 2)\n",
    "        self.dropout2 = nn.Dropout(dropout_rate)\n",
    "        self.fc3 = nn.Linear(hidden_size // 2, len(np.unique(y_encoded)))\n",
    "        \n",
    "    def forward(self, x):\n",
    "        x = torch.relu(self.bn1(self.fc1(x)))\n",
    "        x = self.dropout1(x)\n",
    "        x = torch.relu(self.bn2(self.fc2(x)))\n",
    "        x = self.dropout2(x)\n",
    "        x = self.fc3(x)\n",
    "        return x"
   ]
  },
  {
   "cell_type": "code",
   "execution_count": 16,
   "metadata": {},
   "outputs": [],
   "source": [
    "# Objective function for Optuna\n",
    "def objective(trial):\n",
    "    hidden_size = trial.suggest_int(\"hidden_size\", 32, 256)\n",
    "    dropout_rate = trial.suggest_float(\"dropout_rate\", 0.1, 0.5)\n",
    "    lr = trial.suggest_loguniform(\"lr\", 1e-4, 1e-2)\n",
    "    weight_decay = trial.suggest_loguniform(\"weight_decay\", 1e-5, 1e-3)\n",
    "    \n",
    "    model = NeuralNet(X_train.shape[1], hidden_size, dropout_rate)\n",
    "    criterion = nn.CrossEntropyLoss()\n",
    "    optimizer = optim.Adam(model.parameters(), lr=lr, weight_decay=weight_decay)\n",
    "    \n",
    "    model.train()\n",
    "    for epoch in range(20):\n",
    "        for batch_X, batch_y in train_loader:\n",
    "            optimizer.zero_grad()\n",
    "            outputs = model(batch_X)\n",
    "            loss = criterion(outputs, batch_y)\n",
    "            loss.backward()\n",
    "            optimizer.step()\n",
    "    \n",
    "    model.eval()\n",
    "    y_pred = []\n",
    "    y_true = []\n",
    "    with torch.no_grad():\n",
    "        for batch_X, batch_y in test_loader:\n",
    "            outputs = model(batch_X)\n",
    "            _, predicted = torch.max(outputs, 1)\n",
    "            y_pred.extend(predicted.numpy())\n",
    "            y_true.extend(batch_y.numpy())\n",
    "    \n",
    "    accuracy = accuracy_score(y_true, y_pred)\n",
    "    return accuracy"
   ]
  },
  {
   "cell_type": "code",
   "execution_count": 17,
   "metadata": {},
   "outputs": [
    {
     "name": "stderr",
     "output_type": "stream",
     "text": [
      "[I 2025-03-21 17:03:52,825] A new study created in memory with name: no-name-25e091c7-022b-4c09-930f-cf569a0c25a5\n",
      "[I 2025-03-21 17:03:56,099] Trial 0 finished with value: 0.8392857142857143 and parameters: {'hidden_size': 149, 'dropout_rate': 0.3531013186711235, 'lr': 0.0008428039540741303, 'weight_decay': 0.00011572361269003041}. Best is trial 0 with value: 0.8392857142857143.\n",
      "[I 2025-03-21 17:03:57,618] Trial 1 finished with value: 0.8357142857142857 and parameters: {'hidden_size': 97, 'dropout_rate': 0.3145723598113903, 'lr': 0.0004255000123232483, 'weight_decay': 0.00013202005280046585}. Best is trial 0 with value: 0.8392857142857143.\n",
      "[I 2025-03-21 17:03:59,289] Trial 2 finished with value: 0.8107142857142857 and parameters: {'hidden_size': 201, 'dropout_rate': 0.1109593256157626, 'lr': 0.002851940628307876, 'weight_decay': 5.2468909799056947e-05}. Best is trial 0 with value: 0.8392857142857143.\n",
      "[I 2025-03-21 17:04:00,807] Trial 3 finished with value: 0.8321428571428572 and parameters: {'hidden_size': 73, 'dropout_rate': 0.43996262204189485, 'lr': 0.00589165940936035, 'weight_decay': 0.0007338830584677255}. Best is trial 0 with value: 0.8392857142857143.\n",
      "[I 2025-03-21 17:04:02,615] Trial 4 finished with value: 0.8464285714285714 and parameters: {'hidden_size': 89, 'dropout_rate': 0.3528389579738146, 'lr': 0.0009795598583876158, 'weight_decay': 0.0005154873127914721}. Best is trial 4 with value: 0.8464285714285714.\n",
      "[I 2025-03-21 17:04:05,391] Trial 5 finished with value: 0.8642857142857143 and parameters: {'hidden_size': 48, 'dropout_rate': 0.46485201172270807, 'lr': 0.0061436479856079714, 'weight_decay': 1.576695427646124e-05}. Best is trial 5 with value: 0.8642857142857143.\n",
      "[I 2025-03-21 17:04:10,879] Trial 6 finished with value: 0.8535714285714285 and parameters: {'hidden_size': 34, 'dropout_rate': 0.418467081616575, 'lr': 0.007710745051818214, 'weight_decay': 1.6806552600020337e-05}. Best is trial 5 with value: 0.8642857142857143.\n",
      "[I 2025-03-21 17:04:17,456] Trial 7 finished with value: 0.8357142857142857 and parameters: {'hidden_size': 98, 'dropout_rate': 0.42883017794517264, 'lr': 0.0038987031998204695, 'weight_decay': 1.0285738307086074e-05}. Best is trial 5 with value: 0.8642857142857143.\n",
      "[I 2025-03-21 17:04:24,215] Trial 8 finished with value: 0.8428571428571429 and parameters: {'hidden_size': 103, 'dropout_rate': 0.25567723107448737, 'lr': 0.00036302604954898136, 'weight_decay': 0.00031120857569641214}. Best is trial 5 with value: 0.8642857142857143.\n",
      "[I 2025-03-21 17:04:30,166] Trial 9 finished with value: 0.8428571428571429 and parameters: {'hidden_size': 157, 'dropout_rate': 0.38729363626705127, 'lr': 0.0005490345591691547, 'weight_decay': 0.0006642407181918192}. Best is trial 5 with value: 0.8642857142857143.\n",
      "[I 2025-03-21 17:04:37,066] Trial 10 finished with value: 0.6142857142857143 and parameters: {'hidden_size': 234, 'dropout_rate': 0.49027899026047617, 'lr': 0.00010187980801858347, 'weight_decay': 3.513355637311806e-05}. Best is trial 5 with value: 0.8642857142857143.\n",
      "[I 2025-03-21 17:04:42,352] Trial 11 finished with value: 0.8607142857142858 and parameters: {'hidden_size': 36, 'dropout_rate': 0.4932634784904848, 'lr': 0.00868454113362626, 'weight_decay': 1.0763440751349672e-05}. Best is trial 5 with value: 0.8642857142857143.\n",
      "[I 2025-03-21 17:04:47,538] Trial 12 finished with value: 0.8214285714285714 and parameters: {'hidden_size': 32, 'dropout_rate': 0.4994533420311426, 'lr': 0.0021298285563373337, 'weight_decay': 2.318204717313139e-05}. Best is trial 5 with value: 0.8642857142857143.\n",
      "[I 2025-03-21 17:04:53,562] Trial 13 finished with value: 0.8464285714285714 and parameters: {'hidden_size': 52, 'dropout_rate': 0.23337508914797667, 'lr': 0.0099360252968319, 'weight_decay': 1.0183588921898965e-05}. Best is trial 5 with value: 0.8642857142857143.\n",
      "[I 2025-03-21 17:04:58,740] Trial 14 finished with value: 0.8428571428571429 and parameters: {'hidden_size': 124, 'dropout_rate': 0.4672775194371674, 'lr': 0.002186727143045954, 'weight_decay': 5.589436078957599e-05}. Best is trial 5 with value: 0.8642857142857143.\n",
      "[I 2025-03-21 17:05:03,894] Trial 15 finished with value: 0.8178571428571428 and parameters: {'hidden_size': 62, 'dropout_rate': 0.11761350741065366, 'lr': 0.005224766547619512, 'weight_decay': 1.8190719700614348e-05}. Best is trial 5 with value: 0.8642857142857143.\n",
      "[I 2025-03-21 17:05:09,713] Trial 16 finished with value: 0.8142857142857143 and parameters: {'hidden_size': 199, 'dropout_rate': 0.22418474691814966, 'lr': 0.0015968494493118935, 'weight_decay': 3.6487563770995774e-05}. Best is trial 5 with value: 0.8642857142857143.\n",
      "[I 2025-03-21 17:05:15,462] Trial 17 finished with value: 0.8321428571428572 and parameters: {'hidden_size': 60, 'dropout_rate': 0.3914697396949119, 'lr': 0.003997218984672353, 'weight_decay': 0.00018072381547073592}. Best is trial 5 with value: 0.8642857142857143.\n",
      "[I 2025-03-21 17:05:22,336] Trial 18 finished with value: 0.8357142857142857 and parameters: {'hidden_size': 173, 'dropout_rate': 0.17271168877772375, 'lr': 0.009696315876892162, 'weight_decay': 6.334052978834949e-05}. Best is trial 5 with value: 0.8642857142857143.\n",
      "[I 2025-03-21 17:05:28,939] Trial 19 finished with value: 0.8464285714285714 and parameters: {'hidden_size': 117, 'dropout_rate': 0.46103267669513187, 'lr': 0.0013847483295639873, 'weight_decay': 2.3801135971975884e-05}. Best is trial 5 with value: 0.8642857142857143.\n",
      "[I 2025-03-21 17:05:34,536] Trial 20 finished with value: 0.675 and parameters: {'hidden_size': 43, 'dropout_rate': 0.28781296446550464, 'lr': 0.00019273546465728534, 'weight_decay': 1.430235742156764e-05}. Best is trial 5 with value: 0.8642857142857143.\n",
      "[I 2025-03-21 17:05:38,702] Trial 21 finished with value: 0.85 and parameters: {'hidden_size': 34, 'dropout_rate': 0.41104924172171975, 'lr': 0.00696124428305369, 'weight_decay': 1.640768761581481e-05}. Best is trial 5 with value: 0.8642857142857143.\n",
      "[I 2025-03-21 17:05:44,643] Trial 22 finished with value: 0.8321428571428572 and parameters: {'hidden_size': 79, 'dropout_rate': 0.4533572428464699, 'lr': 0.0069689537480402694, 'weight_decay': 3.0164412086040233e-05}. Best is trial 5 with value: 0.8642857142857143.\n",
      "[I 2025-03-21 17:05:50,310] Trial 23 finished with value: 0.8678571428571429 and parameters: {'hidden_size': 54, 'dropout_rate': 0.49492280630022956, 'lr': 0.0037577064137385933, 'weight_decay': 1.3052846096816544e-05}. Best is trial 23 with value: 0.8678571428571429.\n",
      "[I 2025-03-21 17:05:51,880] Trial 24 finished with value: 0.8607142857142858 and parameters: {'hidden_size': 70, 'dropout_rate': 0.497066691947011, 'lr': 0.003919356918520631, 'weight_decay': 1.053648938015932e-05}. Best is trial 23 with value: 0.8678571428571429.\n",
      "[I 2025-03-21 17:05:53,574] Trial 25 finished with value: 0.85 and parameters: {'hidden_size': 127, 'dropout_rate': 0.46861195444534987, 'lr': 0.002908574905800247, 'weight_decay': 2.3975645662066076e-05}. Best is trial 23 with value: 0.8678571428571429.\n",
      "[I 2025-03-21 17:05:55,272] Trial 26 finished with value: 0.8642857142857143 and parameters: {'hidden_size': 50, 'dropout_rate': 0.3694602811164779, 'lr': 0.004485421268280133, 'weight_decay': 1.4710639709753607e-05}. Best is trial 23 with value: 0.8678571428571429.\n",
      "[I 2025-03-21 17:05:56,826] Trial 27 finished with value: 0.8428571428571429 and parameters: {'hidden_size': 56, 'dropout_rate': 0.35579206643926725, 'lr': 0.005277996890404517, 'weight_decay': 7.482947177223408e-05}. Best is trial 23 with value: 0.8678571428571429.\n",
      "[I 2025-03-21 17:05:58,695] Trial 28 finished with value: 0.8428571428571429 and parameters: {'hidden_size': 255, 'dropout_rate': 0.38557351095875814, 'lr': 0.002833326479748212, 'weight_decay': 3.8710471635717074e-05}. Best is trial 23 with value: 0.8678571428571429.\n",
      "[I 2025-03-21 17:06:00,071] Trial 29 finished with value: 0.8321428571428572 and parameters: {'hidden_size': 84, 'dropout_rate': 0.34172116092509697, 'lr': 0.0014289754785161127, 'weight_decay': 0.00010413137508815597}. Best is trial 23 with value: 0.8678571428571429.\n"
     ]
    }
   ],
   "source": [
    "# Run Optuna study\n",
    "study = optuna.create_study(direction=\"maximize\")\n",
    "study.optimize(objective, n_trials=30)"
   ]
  },
  {
   "cell_type": "code",
   "execution_count": 18,
   "metadata": {},
   "outputs": [],
   "source": [
    "# Train best model\n",
    "best_params = study.best_params\n",
    "best_model = NeuralNet(X_train.shape[1], best_params[\"hidden_size\"], best_params[\"dropout_rate\"])\n",
    "criterion = nn.CrossEntropyLoss()\n",
    "optimizer = optim.Adam(best_model.parameters(), lr=best_params[\"lr\"], weight_decay=best_params[\"weight_decay\"])\n",
    "\n",
    "best_model.train()\n",
    "for epoch in range(20):\n",
    "    for batch_X, batch_y in train_loader:\n",
    "        optimizer.zero_grad()\n",
    "        outputs = best_model(batch_X)\n",
    "        loss = criterion(outputs, batch_y)\n",
    "        loss.backward()\n",
    "        optimizer.step()"
   ]
  },
  {
   "cell_type": "code",
   "execution_count": 19,
   "metadata": {},
   "outputs": [],
   "source": [
    "# Evaluate best model\n",
    "best_model.eval()\n",
    "y_pred = []\n",
    "y_true = []\n",
    "with torch.no_grad():\n",
    "    for batch_X, batch_y in test_loader:\n",
    "        outputs = best_model(batch_X)\n",
    "        _, predicted = torch.max(outputs, 1)\n",
    "        y_pred.extend(predicted.numpy())\n",
    "        y_true.extend(batch_y.numpy())\n",
    "\n",
    "accuracy = accuracy_score(y_true, y_pred)\n",
    "precision, recall, f1, _ = precision_recall_fscore_support(y_true, y_pred, average='weighted')\n",
    "class_report = classification_report(y_true, y_pred)"
   ]
  },
  {
   "cell_type": "code",
   "execution_count": 20,
   "metadata": {},
   "outputs": [
    {
     "name": "stdout",
     "output_type": "stream",
     "text": [
      "Best Hyperparameters: {'hidden_size': 54, 'dropout_rate': 0.49492280630022956, 'lr': 0.0037577064137385933, 'weight_decay': 1.3052846096816544e-05}\n",
      "Accuracy: 0.85\n",
      "Precision: 0.8495852129688602\n",
      "Recall: 0.85\n",
      "F1-Score: 0.8492405053865286\n",
      "Classification Report:\n",
      "               precision    recall  f1-score   support\n",
      "\n",
      "           0       0.85      0.93      0.89        68\n",
      "           1       0.90      0.89      0.89        90\n",
      "           2       0.77      0.74      0.75        58\n",
      "           3       0.85      0.81      0.83        64\n",
      "\n",
      "    accuracy                           0.85       280\n",
      "   macro avg       0.84      0.84      0.84       280\n",
      "weighted avg       0.85      0.85      0.85       280\n",
      "\n"
     ]
    }
   ],
   "source": [
    "# Print results\n",
    "print(f\"Best Hyperparameters: {best_params}\")\n",
    "print(f\"Accuracy: {accuracy}\")\n",
    "print(f\"Precision: {precision}\")\n",
    "print(f\"Recall: {recall}\")\n",
    "print(f\"F1-Score: {f1}\")\n",
    "print(\"Classification Report:\\n\", class_report)"
   ]
  },
  {
   "cell_type": "code",
   "execution_count": 21,
   "metadata": {},
   "outputs": [
    {
     "data": {
      "text/plain": [
       "<Figure size 1200x600 with 0 Axes>"
      ]
     },
     "metadata": {},
     "output_type": "display_data"
    },
    {
     "data": {
      "image/png": "[encoded data removed]",
      "text/plain": [
       "<Figure size 1200x600 with 1 Axes>"
      ]
     },
     "metadata": {},
     "output_type": "display_data"
    },
    {
     "name": "stdout",
     "output_type": "stream",
     "text": [
      "                   Accuracy  Precision    Recall  F1-Score\n",
      "SVM                0.800000   0.797241  0.800000  0.797193\n",
      "Random Forest      0.675000   0.674028  0.675000  0.670556\n",
      "Decision Tree      0.496429   0.497024  0.496429  0.496517\n",
      "XGBoost            0.696429   0.696549  0.696429  0.696470\n",
      "Gradient Boosting  0.728571   0.729010  0.728571  0.728701\n",
      "Neural Network     0.850000   0.849585  0.850000  0.849241\n"
     ]
    }
   ],
   "source": [
    "# Add the neural network's metrics to the metrics DataFrame\n",
    "nn_metrics = {\n",
    "    \"Neural Network\": {\n",
    "        \"Accuracy\": accuracy,\n",
    "        \"Precision\": precision,\n",
    "        \"Recall\": recall,\n",
    "        \"F1-Score\": f1\n",
    "    }\n",
    "}\n",
    "\n",
    "# Convert the neural network metrics to a DataFrame and concatenate with the existing metrics DataFrame\n",
    "nn_metrics_df = pd.DataFrame(nn_metrics).T\n",
    "combined_metrics_df = pd.concat([metrics_df, nn_metrics_df])\n",
    "\n",
    "# Generate the cubehelix palette with start=2\n",
    "cubehelix_palette = sns.cubehelix_palette(start=2, n_colors=3)\n",
    "\n",
    "# Plot the comparison of precision, recall, and F1-score\n",
    "plt.figure(figsize=(12, 6))\n",
    "ax = combined_metrics_df[[\"Precision\", \"Recall\", \"F1-Score\"]].plot(kind=\"bar\", figsize=(12, 6), color=cubehelix_palette)\n",
    "plt.title(\"Comparison of Precision, Recall, and F1-Score\", fontsize=16)\n",
    "plt.ylabel(\"Score\", fontsize=14)\n",
    "plt.xlabel(\"Model\", fontsize=14)\n",
    "plt.xticks(rotation=45, fontsize=12)\n",
    "plt.yticks(fontsize=12)\n",
    "plt.legend(loc=\"upper right\", fontsize=12)\n",
    "\n",
    "# Add value labels on top of each bar\n",
    "for p in ax.patches:\n",
    "    ax.annotate(\n",
    "        f\"{p.get_height():.2f}\",  # Format the number to 2 decimal places\n",
    "        (p.get_x() + p.get_width() / 2, p.get_height()),  # Position of the label\n",
    "        ha=\"center\",  # Horizontal alignment\n",
    "        va=\"center\",  # Vertical alignment\n",
    "        xytext=(0, 10),  # Offset from the bar\n",
    "        textcoords=\"offset points\",  # Coordinate system for the offset\n",
    "        fontsize=10,  # Font size of the label\n",
    "    )\n",
    "\n",
    "plt.tight_layout()\n",
    "plt.show()\n",
    "\n",
    "# Print the combined metrics DataFrame\n",
    "print(combined_metrics_df)"
   ]
  },
  {
   "cell_type": "code",
   "execution_count": null,
   "metadata": {},
   "outputs": [],
   "source": []
  }
 ],
 "metadata": {
  "kernelspec": {
   "display_name": "Python 3",
   "language": "python",
   "name": "python3"
  },
  "language_info": {
   "codemirror_mode": {
    "name": "ipython",
    "version": 3
   },
   "file_extension": ".py",
   "mimetype": "text/x-python",
   "name": "python",
   "nbconvert_exporter": "python",
   "pygments_lexer": "ipython3",
   "version": "3.11.0"
  }
 },
 "nbformat": 4,
 "nbformat_minor": 2
}
